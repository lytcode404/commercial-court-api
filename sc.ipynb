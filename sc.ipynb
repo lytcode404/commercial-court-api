{
 "cells": [
  {
   "cell_type": "code",
   "execution_count": 3,
   "metadata": {},
   "outputs": [],
   "source": [
    "import os\n",
    "from dotenv import load_dotenv\n",
    "from langchain.embeddings.openai import OpenAIEmbeddings\n",
    "from langchain.vectorstores.faiss import FAISS\n",
    "from langchain.schema import Document\n",
    "import numpy as np\n",
    "import faiss\n",
    "import pandas as pd\n",
    "import openai"
   ]
  },
  {
   "cell_type": "code",
   "execution_count": 4,
   "metadata": {},
   "outputs": [],
   "source": [
    "# Load environment variables from .env file\n",
    "load_dotenv()\n",
    "\n",
    "# Load API key from environment variable\n",
    "openai_api_key = os.getenv(\"OPENAI_API_KEY\")\n",
    "\n",
    "if not openai_api_key:\n",
    "    raise ValueError(\"The environment variable OPENAI_API_KEY is not set.\")"
   ]
  },
  {
   "cell_type": "code",
   "execution_count": 5,
   "metadata": {},
   "outputs": [],
   "source": [
    "# Set the OpenAI API key\n",
    "openai.api_key = openai_api_key"
   ]
  },
  {
   "cell_type": "code",
   "execution_count": 6,
   "metadata": {},
   "outputs": [
    {
     "name": "stderr",
     "output_type": "stream",
     "text": [
      "C:\\Users\\Dilshad\\AppData\\Local\\Temp\\ipykernel_37980\\1570693540.py:2: LangChainDeprecationWarning: The class `OpenAIEmbeddings` was deprecated in LangChain 0.0.9 and will be removed in 1.0. An updated version of the class exists in the langchain-openai package and should be used instead. To use it run `pip install -U langchain-openai` and import as `from langchain_openai import OpenAIEmbeddings`.\n",
      "  embeddings = OpenAIEmbeddings(openai_api_key=openai_api_key)\n"
     ]
    }
   ],
   "source": [
    "# Initialize the OpenAI embeddings\n",
    "embeddings = OpenAIEmbeddings(openai_api_key=openai_api_key)\n",
    "\n",
    "# Load your data\n",
    "df = pd.read_json('new.json')\n",
    "\n",
    "# Flatten the section-content into a single string for each entry\n",
    "df['section-content-text'] = df['section-content'].apply(\n",
    "    lambda x: ' '.join(x.get('Content', [])) if isinstance(x, dict) else ''\n",
    ")\n",
    "df = df.drop(columns=['section-content'])"
   ]
  },
  {
   "cell_type": "code",
   "execution_count": 7,
   "metadata": {},
   "outputs": [],
   "source": [
    "\n",
    "def find_similar_sections(query, faiss_index, df, top_k=3):\n",
    "    # Embed the query\n",
    "    query_embedding = embeddings.embed_query(query)\n",
    "\n",
    "    # Ensure query_embedding is a 2D numpy array\n",
    "    query_embedding = np.array([query_embedding], dtype=np.float32)\n",
    "\n",
    "    # Search the FAISS index for the nearest neighbors\n",
    "    distances, indices = faiss_index.index.search(query_embedding, top_k)\n",
    "\n",
    "    # Retrieve the corresponding rows from the DataFrame\n",
    "    similar_sections = df.iloc[indices[0]]\n",
    "\n",
    "    return similar_sections\n",
    "\n",
    "# Test the search with a query\n",
    "\n",
    "\n",
    "def test_query(query, df, top_k=3):\n",
    "    # Load the FAISS index\n",
    "    index = faiss.read_index(\"faiss_index.index\")\n",
    "\n",
    "    # Create FAISS object with the loaded index\n",
    "    faiss_index = FAISS(index=index, embedding_function=embeddings.embed_query)\n",
    "\n",
    "    # Find the top similar sections\n",
    "    similar_sections = find_similar_sections(query, faiss_index, df, top_k)\n",
    "\n",
    "    return similar_sections"
   ]
  },
  {
   "cell_type": "code",
   "execution_count": 8,
   "metadata": {},
   "outputs": [
    {
     "ename": "TypeError",
     "evalue": "FAISS.__init__() missing 2 required positional arguments: 'docstore' and 'index_to_docstore_id'",
     "output_type": "error",
     "traceback": [
      "\u001b[1;31m---------------------------------------------------------------------------\u001b[0m",
      "\u001b[1;31mTypeError\u001b[0m                                 Traceback (most recent call last)",
      "Cell \u001b[1;32mIn[8], line 5\u001b[0m\n\u001b[0;32m      2\u001b[0m query \u001b[38;5;241m=\u001b[39m \u001b[38;5;124m\"\u001b[39m\u001b[38;5;124mThe Chief Justice of the High Court may constitute a Commercial Court.\u001b[39m\u001b[38;5;124m\"\u001b[39m\n\u001b[0;32m      4\u001b[0m \u001b[38;5;66;03m# Test the query\u001b[39;00m\n\u001b[1;32m----> 5\u001b[0m similar_sections \u001b[38;5;241m=\u001b[39m \u001b[43mtest_query\u001b[49m\u001b[43m(\u001b[49m\u001b[43mquery\u001b[49m\u001b[43m,\u001b[49m\u001b[43m \u001b[49m\u001b[43mdf\u001b[49m\u001b[43m,\u001b[49m\u001b[43m \u001b[49m\u001b[43mtop_k\u001b[49m\u001b[38;5;241;43m=\u001b[39;49m\u001b[38;5;241;43m3\u001b[39;49m\u001b[43m)\u001b[49m\n\u001b[0;32m      7\u001b[0m \u001b[38;5;66;03m# Display the results\u001b[39;00m\n\u001b[0;32m      8\u001b[0m \u001b[38;5;28mprint\u001b[39m(similar_sections[[\u001b[38;5;124m'\u001b[39m\u001b[38;5;124mchapter\u001b[39m\u001b[38;5;124m'\u001b[39m, \u001b[38;5;124m'\u001b[39m\u001b[38;5;124mchapter-title\u001b[39m\u001b[38;5;124m'\u001b[39m,\n\u001b[0;32m      9\u001b[0m       \u001b[38;5;124m'\u001b[39m\u001b[38;5;124mSection\u001b[39m\u001b[38;5;124m'\u001b[39m, \u001b[38;5;124m'\u001b[39m\u001b[38;5;124msection-content-text\u001b[39m\u001b[38;5;124m'\u001b[39m]])\n",
      "Cell \u001b[1;32mIn[7], line 24\u001b[0m, in \u001b[0;36mtest_query\u001b[1;34m(query, df, top_k)\u001b[0m\n\u001b[0;32m     21\u001b[0m index \u001b[38;5;241m=\u001b[39m faiss\u001b[38;5;241m.\u001b[39mread_index(\u001b[38;5;124m\"\u001b[39m\u001b[38;5;124mfaiss_index.index\u001b[39m\u001b[38;5;124m\"\u001b[39m)\n\u001b[0;32m     23\u001b[0m \u001b[38;5;66;03m# Create FAISS object with the loaded index\u001b[39;00m\n\u001b[1;32m---> 24\u001b[0m faiss_index \u001b[38;5;241m=\u001b[39m \u001b[43mFAISS\u001b[49m\u001b[43m(\u001b[49m\u001b[43mindex\u001b[49m\u001b[38;5;241;43m=\u001b[39;49m\u001b[43mindex\u001b[49m\u001b[43m,\u001b[49m\u001b[43m \u001b[49m\u001b[43membedding_function\u001b[49m\u001b[38;5;241;43m=\u001b[39;49m\u001b[43membeddings\u001b[49m\u001b[38;5;241;43m.\u001b[39;49m\u001b[43membed_query\u001b[49m\u001b[43m)\u001b[49m\n\u001b[0;32m     26\u001b[0m \u001b[38;5;66;03m# Find the top similar sections\u001b[39;00m\n\u001b[0;32m     27\u001b[0m similar_sections \u001b[38;5;241m=\u001b[39m find_similar_sections(query, faiss_index, df, top_k)\n",
      "\u001b[1;31mTypeError\u001b[0m: FAISS.__init__() missing 2 required positional arguments: 'docstore' and 'index_to_docstore_id'"
     ]
    }
   ],
   "source": [
    "\n",
    "# Example query\n",
    "query = \"The Chief Justice of the High Court may constitute a Commercial Court.\"\n",
    "\n",
    "# Test the query\n",
    "similar_sections = test_query(query, df, top_k=3)\n",
    "\n",
    "# Display the results\n",
    "print(similar_sections[['chapter', 'chapter-title',\n",
    "      'Section', 'section-content-text']])"
   ]
  },
  {
   "cell_type": "code",
   "execution_count": 11,
   "metadata": {},
   "outputs": [
    {
     "name": "stdout",
     "output_type": "stream",
     "text": [
      "new_update.json created successfully.\n"
     ]
    }
   ],
   "source": [
    "import pandas as pd\n",
    "\n",
    "# Load your original data\n",
    "df = pd.read_json('new.json')\n",
    "\n",
    "# Flatten the section-content into a single string for each entry\n",
    "df['section-content-text'] = df['section-content'].apply(\n",
    "    lambda x: ' '.join(x.get('Content', [])) if isinstance(x, dict) else ''\n",
    ")\n",
    "\n",
    "# Drop the original 'section-content' column\n",
    "df = df.drop(columns=['section-content'])\n",
    "\n",
    "# Save the modified DataFrame to a new JSON file\n",
    "df.to_json('new_update.json', orient='records', lines=False, indent=4)\n",
    "\n",
    "print(\"new_update.json created successfully.\")"
   ]
  }
 ],
 "metadata": {
  "kernelspec": {
   "display_name": "menv",
   "language": "python",
   "name": "python3"
  },
  "language_info": {
   "codemirror_mode": {
    "name": "ipython",
    "version": 3
   },
   "file_extension": ".py",
   "mimetype": "text/x-python",
   "name": "python",
   "nbconvert_exporter": "python",
   "pygments_lexer": "ipython3",
   "version": "3.11.5"
  }
 },
 "nbformat": 4,
 "nbformat_minor": 2
}
